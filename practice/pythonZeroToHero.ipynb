{
 "cells": [
  {
   "cell_type": "markdown",
   "metadata": {
    "ExecuteTime": {
     "end_time": "2021-01-31T03:22:27.988179Z",
     "start_time": "2021-01-31T03:22:27.985772Z"
    }
   },
   "source": [
    "# This is a Python Tutorial"
   ]
  },
  {
   "cell_type": "code",
   "execution_count": 38,
   "metadata": {
    "ExecuteTime": {
     "end_time": "2021-01-31T13:45:35.319597Z",
     "start_time": "2021-01-31T13:45:35.317085Z"
    }
   },
   "outputs": [
    {
     "name": "stdout",
     "output_type": "stream",
     "text": [
      "Hellow World\n"
     ]
    }
   ],
   "source": [
    "print(\"Hellow World\")"
   ]
  },
  {
   "cell_type": "markdown",
   "metadata": {},
   "source": [
    "# Variable"
   ]
  },
  {
   "cell_type": "code",
   "execution_count": 39,
   "metadata": {
    "ExecuteTime": {
     "end_time": "2021-01-31T13:45:35.370532Z",
     "start_time": "2021-01-31T13:45:35.353099Z"
    }
   },
   "outputs": [],
   "source": [
    "x = 3"
   ]
  },
  {
   "cell_type": "code",
   "execution_count": 40,
   "metadata": {
    "ExecuteTime": {
     "end_time": "2021-01-31T13:45:35.385734Z",
     "start_time": "2021-01-31T13:45:35.371813Z"
    }
   },
   "outputs": [
    {
     "name": "stdout",
     "output_type": "stream",
     "text": [
      "Variable        Type        Data/Info\n",
      "-------------------------------------\n",
      "L               list        n=4\n",
      "L2              list        n=8\n",
      "a               str         abc;def;hgydfa;yy23\n",
      "b               str         abc defg ;; sadfa qf\n",
      "c               str         ABC DEFG ;; SADFA QF\n",
      "d               str         ABC deFg two semi colons sadfa QF\n",
      "fns             module      <module 'myfuncs' from '/<...>it/ml/python/myfuncs.py'>\n",
      "json            module      <module 'json' from '/hom<...>hon3.8/json/__init__.py'>\n",
      "lib2to3         module      <module 'lib2to3' from '/<...>3.8/lib2to3/__init__.py'>\n",
      "price           int         12\n",
      "s               str         How are you and who are you\n",
      "sortList        function    <function sortList at 0x7f6fb5cd8430>\n",
      "sys             module      <module 'sys' (built-in)>\n",
      "v               str         The price of this book is: 12\n",
      "x               int         3\n",
      "yapf_reformat   function    <function yapf_reformat at 0x7f6fcc05dd30>\n"
     ]
    }
   ],
   "source": [
    "%whos"
   ]
  },
  {
   "cell_type": "code",
   "execution_count": 41,
   "metadata": {
    "ExecuteTime": {
     "end_time": "2021-01-31T13:45:35.395349Z",
     "start_time": "2021-01-31T13:45:35.387605Z"
    }
   },
   "outputs": [
    {
     "name": "stdout",
     "output_type": "stream",
     "text": [
      "<class 'int'>\n"
     ]
    }
   ],
   "source": [
    "print(type(x))"
   ]
  },
  {
   "cell_type": "code",
   "execution_count": 42,
   "metadata": {
    "ExecuteTime": {
     "end_time": "2021-01-31T13:45:35.407558Z",
     "start_time": "2021-01-31T13:45:35.397207Z"
    }
   },
   "outputs": [],
   "source": [
    "abcd = 556.32"
   ]
  },
  {
   "cell_type": "code",
   "execution_count": 43,
   "metadata": {
    "ExecuteTime": {
     "end_time": "2021-01-31T13:45:35.423946Z",
     "start_time": "2021-01-31T13:45:35.408706Z"
    }
   },
   "outputs": [
    {
     "name": "stdout",
     "output_type": "stream",
     "text": [
      "Variable        Type        Data/Info\n",
      "-------------------------------------\n",
      "L               list        n=4\n",
      "L2              list        n=8\n",
      "a               str         abc;def;hgydfa;yy23\n",
      "abcd            float       556.32\n",
      "b               str         abc defg ;; sadfa qf\n",
      "c               str         ABC DEFG ;; SADFA QF\n",
      "d               str         ABC deFg two semi colons sadfa QF\n",
      "fns             module      <module 'myfuncs' from '/<...>it/ml/python/myfuncs.py'>\n",
      "json            module      <module 'json' from '/hom<...>hon3.8/json/__init__.py'>\n",
      "lib2to3         module      <module 'lib2to3' from '/<...>3.8/lib2to3/__init__.py'>\n",
      "price           int         12\n",
      "s               str         How are you and who are you\n",
      "sortList        function    <function sortList at 0x7f6fb5cd8430>\n",
      "sys             module      <module 'sys' (built-in)>\n",
      "v               str         The price of this book is: 12\n",
      "x               int         3\n",
      "yapf_reformat   function    <function yapf_reformat at 0x7f6fcc05dd30>\n"
     ]
    }
   ],
   "source": [
    "%whos"
   ]
  },
  {
   "cell_type": "code",
   "execution_count": 44,
   "metadata": {
    "ExecuteTime": {
     "end_time": "2021-01-31T13:45:35.432108Z",
     "start_time": "2021-01-31T13:45:35.425383Z"
    }
   },
   "outputs": [],
   "source": [
    "s = 'This is Ajit'"
   ]
  },
  {
   "cell_type": "code",
   "execution_count": 45,
   "metadata": {
    "ExecuteTime": {
     "end_time": "2021-01-31T13:45:35.445138Z",
     "start_time": "2021-01-31T13:45:35.433249Z"
    }
   },
   "outputs": [
    {
     "data": {
      "text/plain": [
       "str"
      ]
     },
     "execution_count": 45,
     "metadata": {},
     "output_type": "execute_result"
    }
   ],
   "source": [
    "type(s)"
   ]
  },
  {
   "cell_type": "code",
   "execution_count": 46,
   "metadata": {
    "ExecuteTime": {
     "end_time": "2021-01-31T13:45:35.461230Z",
     "start_time": "2021-01-31T13:45:35.446770Z"
    }
   },
   "outputs": [
    {
     "name": "stdout",
     "output_type": "stream",
     "text": [
      "Variable        Type        Data/Info\n",
      "-------------------------------------\n",
      "L               list        n=4\n",
      "L2              list        n=8\n",
      "a               str         abc;def;hgydfa;yy23\n",
      "abcd            float       556.32\n",
      "b               str         abc defg ;; sadfa qf\n",
      "c               str         ABC DEFG ;; SADFA QF\n",
      "d               str         ABC deFg two semi colons sadfa QF\n",
      "fns             module      <module 'myfuncs' from '/<...>it/ml/python/myfuncs.py'>\n",
      "json            module      <module 'json' from '/hom<...>hon3.8/json/__init__.py'>\n",
      "lib2to3         module      <module 'lib2to3' from '/<...>3.8/lib2to3/__init__.py'>\n",
      "price           int         12\n",
      "s               str         This is Ajit\n",
      "sortList        function    <function sortList at 0x7f6fb5cd8430>\n",
      "sys             module      <module 'sys' (built-in)>\n",
      "v               str         The price of this book is: 12\n",
      "x               int         3\n",
      "yapf_reformat   function    <function yapf_reformat at 0x7f6fcc05dd30>\n"
     ]
    }
   ],
   "source": [
    "%whos"
   ]
  },
  {
   "cell_type": "markdown",
   "metadata": {},
   "source": [
    "# Operators"
   ]
  },
  {
   "cell_type": "code",
   "execution_count": 47,
   "metadata": {
    "ExecuteTime": {
     "end_time": "2021-01-31T13:45:35.470630Z",
     "start_time": "2021-01-31T13:45:35.463042Z"
    }
   },
   "outputs": [],
   "source": [
    "a = 5 \n",
    "b = 3\n",
    "sumOfaAndb = a + b"
   ]
  },
  {
   "cell_type": "code",
   "execution_count": 48,
   "metadata": {
    "ExecuteTime": {
     "end_time": "2021-01-31T13:45:35.483410Z",
     "start_time": "2021-01-31T13:45:35.471877Z"
    }
   },
   "outputs": [
    {
     "name": "stdout",
     "output_type": "stream",
     "text": [
      "8\n"
     ]
    }
   ],
   "source": [
    "print(sumOfaAndb)"
   ]
  },
  {
   "cell_type": "code",
   "execution_count": 49,
   "metadata": {
    "ExecuteTime": {
     "end_time": "2021-01-31T13:45:35.496036Z",
     "start_time": "2021-01-31T13:45:35.484510Z"
    }
   },
   "outputs": [
    {
     "data": {
      "text/plain": [
       "int"
      ]
     },
     "execution_count": 49,
     "metadata": {},
     "output_type": "execute_result"
    }
   ],
   "source": [
    "type(sumOfaAndb)"
   ]
  },
  {
   "cell_type": "markdown",
   "metadata": {},
   "source": [
    "## Bool"
   ]
  },
  {
   "cell_type": "code",
   "execution_count": 50,
   "metadata": {
    "ExecuteTime": {
     "end_time": "2021-01-31T13:45:35.507893Z",
     "start_time": "2021-01-31T13:45:35.497243Z"
    }
   },
   "outputs": [],
   "source": [
    "a = True\n",
    "b = True\n",
    "c = False"
   ]
  },
  {
   "cell_type": "code",
   "execution_count": 51,
   "metadata": {
    "ExecuteTime": {
     "end_time": "2021-01-31T13:45:35.521255Z",
     "start_time": "2021-01-31T13:45:35.509787Z"
    }
   },
   "outputs": [
    {
     "name": "stdout",
     "output_type": "stream",
     "text": [
      "True\n",
      "False\n",
      "False\n"
     ]
    }
   ],
   "source": [
    "print(a and b)\n",
    "print(a and c)\n",
    "print(c and a)"
   ]
  },
  {
   "cell_type": "code",
   "execution_count": 52,
   "metadata": {
    "ExecuteTime": {
     "end_time": "2021-01-31T13:45:35.533124Z",
     "start_time": "2021-01-31T13:45:35.522739Z"
    }
   },
   "outputs": [
    {
     "name": "stdout",
     "output_type": "stream",
     "text": [
      "True\n"
     ]
    }
   ],
   "source": [
    "d = a or c\n",
    "print(d)"
   ]
  },
  {
   "cell_type": "code",
   "execution_count": 53,
   "metadata": {
    "ExecuteTime": {
     "end_time": "2021-01-31T13:45:35.549301Z",
     "start_time": "2021-01-31T13:45:35.534692Z"
    }
   },
   "outputs": [
    {
     "data": {
      "text/plain": [
       "False"
      ]
     },
     "execution_count": 53,
     "metadata": {},
     "output_type": "execute_result"
    }
   ],
   "source": [
    "not(a)"
   ]
  },
  {
   "cell_type": "code",
   "execution_count": 54,
   "metadata": {
    "ExecuteTime": {
     "end_time": "2021-01-31T13:45:35.561830Z",
     "start_time": "2021-01-31T13:45:35.550562Z"
    }
   },
   "outputs": [
    {
     "data": {
      "text/plain": [
       "False"
      ]
     },
     "execution_count": 54,
     "metadata": {},
     "output_type": "execute_result"
    }
   ],
   "source": [
    "not((a and b) or (c or d))"
   ]
  },
  {
   "cell_type": "markdown",
   "metadata": {},
   "source": [
    "## Comparisons"
   ]
  },
  {
   "cell_type": "code",
   "execution_count": 55,
   "metadata": {
    "ExecuteTime": {
     "end_time": "2021-01-31T13:45:35.573994Z",
     "start_time": "2021-01-31T13:45:35.563074Z"
    }
   },
   "outputs": [
    {
     "name": "stdout",
     "output_type": "stream",
     "text": [
      "True\n"
     ]
    }
   ],
   "source": [
    "print(2<3)"
   ]
  },
  {
   "cell_type": "code",
   "execution_count": 56,
   "metadata": {
    "ExecuteTime": {
     "end_time": "2021-01-31T13:45:35.585034Z",
     "start_time": "2021-01-31T13:45:35.575375Z"
    }
   },
   "outputs": [
    {
     "name": "stdout",
     "output_type": "stream",
     "text": [
      "<class 'bool'>\n",
      "True\n"
     ]
    }
   ],
   "source": [
    "c = 2<3\n",
    "print(type(c))\n",
    "print(c)"
   ]
  },
  {
   "cell_type": "code",
   "execution_count": 57,
   "metadata": {
    "ExecuteTime": {
     "end_time": "2021-01-31T13:45:35.595942Z",
     "start_time": "2021-01-31T13:45:35.586638Z"
    }
   },
   "outputs": [],
   "source": [
    "d = 3==4"
   ]
  },
  {
   "cell_type": "code",
   "execution_count": 58,
   "metadata": {
    "ExecuteTime": {
     "end_time": "2021-01-31T13:45:35.612561Z",
     "start_time": "2021-01-31T13:45:35.597475Z"
    }
   },
   "outputs": [
    {
     "name": "stdout",
     "output_type": "stream",
     "text": [
      "False\n"
     ]
    }
   ],
   "source": [
    "print(d)"
   ]
  },
  {
   "cell_type": "code",
   "execution_count": 59,
   "metadata": {
    "ExecuteTime": {
     "end_time": "2021-01-31T13:45:35.623769Z",
     "start_time": "2021-01-31T13:45:35.614060Z"
    }
   },
   "outputs": [
    {
     "data": {
      "text/plain": [
       "True"
      ]
     },
     "execution_count": 59,
     "metadata": {},
     "output_type": "execute_result"
    }
   ],
   "source": [
    "3==3.0"
   ]
  },
  {
   "cell_type": "code",
   "execution_count": 60,
   "metadata": {
    "ExecuteTime": {
     "end_time": "2021-01-31T13:45:35.635736Z",
     "start_time": "2021-01-31T13:45:35.624921Z"
    }
   },
   "outputs": [],
   "source": [
    "x = 4\n",
    "y = 9\n",
    "z = 8.3\n",
    "r = -3"
   ]
  },
  {
   "cell_type": "code",
   "execution_count": 61,
   "metadata": {
    "ExecuteTime": {
     "end_time": "2021-01-31T13:45:35.649254Z",
     "start_time": "2021-01-31T13:45:35.637290Z"
    }
   },
   "outputs": [
    {
     "data": {
      "text/plain": [
       "True"
      ]
     },
     "execution_count": 61,
     "metadata": {},
     "output_type": "execute_result"
    }
   ],
   "source": [
    "(x<y) and (z<y) or (r==x)"
   ]
  },
  {
   "cell_type": "code",
   "execution_count": 62,
   "metadata": {
    "ExecuteTime": {
     "end_time": "2021-01-31T13:45:35.663210Z",
     "start_time": "2021-01-31T13:45:35.652521Z"
    }
   },
   "outputs": [
    {
     "data": {
      "text/plain": [
       "False"
      ]
     },
     "execution_count": 62,
     "metadata": {},
     "output_type": "execute_result"
    }
   ],
   "source": [
    "(r==x) and (x<y) or (z>y)"
   ]
  },
  {
   "cell_type": "code",
   "execution_count": 63,
   "metadata": {
    "ExecuteTime": {
     "end_time": "2021-01-31T13:45:35.677559Z",
     "start_time": "2021-01-31T13:45:35.664873Z"
    }
   },
   "outputs": [
    {
     "data": {
      "text/plain": [
       "False"
      ]
     },
     "execution_count": 63,
     "metadata": {},
     "output_type": "execute_result"
    }
   ],
   "source": [
    "(True or False) and False"
   ]
  },
  {
   "cell_type": "code",
   "execution_count": 64,
   "metadata": {
    "ExecuteTime": {
     "end_time": "2021-01-31T13:45:35.690181Z",
     "start_time": "2021-01-31T13:45:35.678706Z"
    }
   },
   "outputs": [
    {
     "name": "stdout",
     "output_type": "stream",
     "text": [
      "False\n"
     ]
    }
   ],
   "source": [
    "print((not(2!=3) and True) or (False and True))"
   ]
  },
  {
   "cell_type": "code",
   "execution_count": 65,
   "metadata": {
    "ExecuteTime": {
     "end_time": "2021-01-31T13:45:35.702990Z",
     "start_time": "2021-01-31T13:45:35.692690Z"
    }
   },
   "outputs": [
    {
     "name": "stdout",
     "output_type": "stream",
     "text": [
      "5\n"
     ]
    }
   ],
   "source": [
    "print(round(4.556))"
   ]
  },
  {
   "cell_type": "code",
   "execution_count": 66,
   "metadata": {
    "ExecuteTime": {
     "end_time": "2021-01-31T13:45:35.714971Z",
     "start_time": "2021-01-31T13:45:35.704771Z"
    }
   },
   "outputs": [
    {
     "name": "stdout",
     "output_type": "stream",
     "text": [
      "4\n"
     ]
    }
   ],
   "source": [
    "print(round(4.345))"
   ]
  },
  {
   "cell_type": "code",
   "execution_count": 67,
   "metadata": {
    "ExecuteTime": {
     "end_time": "2021-01-31T13:45:35.729388Z",
     "start_time": "2021-01-31T13:45:35.716218Z"
    }
   },
   "outputs": [
    {
     "name": "stdout",
     "output_type": "stream",
     "text": [
      "4.556\n"
     ]
    }
   ],
   "source": [
    "print(round(4.556389,3))"
   ]
  },
  {
   "cell_type": "code",
   "execution_count": 68,
   "metadata": {
    "ExecuteTime": {
     "end_time": "2021-01-31T13:45:35.742538Z",
     "start_time": "2021-01-31T13:45:35.730849Z"
    }
   },
   "outputs": [],
   "source": [
    "B = divmod(27,5)"
   ]
  },
  {
   "cell_type": "code",
   "execution_count": 69,
   "metadata": {
    "ExecuteTime": {
     "end_time": "2021-01-31T13:45:35.759376Z",
     "start_time": "2021-01-31T13:45:35.743673Z"
    }
   },
   "outputs": [
    {
     "data": {
      "text/plain": [
       "tuple"
      ]
     },
     "execution_count": 69,
     "metadata": {},
     "output_type": "execute_result"
    }
   ],
   "source": [
    "type(B)"
   ]
  },
  {
   "cell_type": "code",
   "execution_count": 70,
   "metadata": {
    "ExecuteTime": {
     "end_time": "2021-01-31T13:45:35.772164Z",
     "start_time": "2021-01-31T13:45:35.760827Z"
    }
   },
   "outputs": [
    {
     "name": "stdout",
     "output_type": "stream",
     "text": [
      "(5, 2)\n"
     ]
    }
   ],
   "source": [
    "print(B)"
   ]
  },
  {
   "cell_type": "code",
   "execution_count": 71,
   "metadata": {
    "ExecuteTime": {
     "end_time": "2021-01-31T13:45:35.784633Z",
     "start_time": "2021-01-31T13:45:35.773715Z"
    }
   },
   "outputs": [
    {
     "data": {
      "text/plain": [
       "5"
      ]
     },
     "execution_count": 71,
     "metadata": {},
     "output_type": "execute_result"
    }
   ],
   "source": [
    "B[0]"
   ]
  },
  {
   "cell_type": "code",
   "execution_count": 72,
   "metadata": {
    "ExecuteTime": {
     "end_time": "2021-01-31T13:45:35.799047Z",
     "start_time": "2021-01-31T13:45:35.786235Z"
    }
   },
   "outputs": [],
   "source": [
    "G = divmod(34,9)"
   ]
  },
  {
   "cell_type": "code",
   "execution_count": 73,
   "metadata": {
    "ExecuteTime": {
     "end_time": "2021-01-31T13:45:35.813370Z",
     "start_time": "2021-01-31T13:45:35.800464Z"
    }
   },
   "outputs": [
    {
     "data": {
      "text/plain": [
       "tuple"
      ]
     },
     "execution_count": 73,
     "metadata": {},
     "output_type": "execute_result"
    }
   ],
   "source": [
    "type(G)"
   ]
  },
  {
   "cell_type": "code",
   "execution_count": 74,
   "metadata": {
    "ExecuteTime": {
     "end_time": "2021-01-31T13:45:35.826439Z",
     "start_time": "2021-01-31T13:45:35.815621Z"
    }
   },
   "outputs": [
    {
     "data": {
      "text/plain": [
       "3"
      ]
     },
     "execution_count": 74,
     "metadata": {},
     "output_type": "execute_result"
    }
   ],
   "source": [
    "34//9"
   ]
  },
  {
   "cell_type": "code",
   "execution_count": 75,
   "metadata": {
    "ExecuteTime": {
     "end_time": "2021-01-31T13:45:35.839675Z",
     "start_time": "2021-01-31T13:45:35.827646Z"
    }
   },
   "outputs": [
    {
     "data": {
      "text/plain": [
       "7"
      ]
     },
     "execution_count": 75,
     "metadata": {},
     "output_type": "execute_result"
    }
   ],
   "source": [
    "34%9"
   ]
  },
  {
   "cell_type": "code",
   "execution_count": 76,
   "metadata": {
    "ExecuteTime": {
     "end_time": "2021-01-31T13:45:35.852571Z",
     "start_time": "2021-01-31T13:45:35.840796Z"
    }
   },
   "outputs": [
    {
     "data": {
      "text/plain": [
       "True"
      ]
     },
     "execution_count": 76,
     "metadata": {},
     "output_type": "execute_result"
    }
   ],
   "source": [
    "isinstance(3,int)"
   ]
  },
  {
   "cell_type": "code",
   "execution_count": 77,
   "metadata": {
    "ExecuteTime": {
     "end_time": "2021-01-31T13:45:35.865276Z",
     "start_time": "2021-01-31T13:45:35.854219Z"
    }
   },
   "outputs": [
    {
     "data": {
      "text/plain": [
       "True"
      ]
     },
     "execution_count": 77,
     "metadata": {},
     "output_type": "execute_result"
    }
   ],
   "source": [
    "isinstance(3.4,(float,int))"
   ]
  },
  {
   "cell_type": "code",
   "execution_count": 78,
   "metadata": {
    "ExecuteTime": {
     "end_time": "2021-01-31T13:45:35.876943Z",
     "start_time": "2021-01-31T13:45:35.866762Z"
    }
   },
   "outputs": [
    {
     "data": {
      "text/plain": [
       "True"
      ]
     },
     "execution_count": 78,
     "metadata": {},
     "output_type": "execute_result"
    }
   ],
   "source": [
    "isinstance(2+3j,(int,float,str,complex))"
   ]
  },
  {
   "cell_type": "code",
   "execution_count": 79,
   "metadata": {
    "ExecuteTime": {
     "end_time": "2021-01-31T13:45:35.890583Z",
     "start_time": "2021-01-31T13:45:35.878069Z"
    }
   },
   "outputs": [
    {
     "data": {
      "text/plain": [
       "16"
      ]
     },
     "execution_count": 79,
     "metadata": {},
     "output_type": "execute_result"
    }
   ],
   "source": [
    "pow(2,4)"
   ]
  },
  {
   "cell_type": "code",
   "execution_count": 80,
   "metadata": {
    "ExecuteTime": {
     "end_time": "2021-01-31T13:45:35.902359Z",
     "start_time": "2021-01-31T13:45:35.891626Z"
    }
   },
   "outputs": [
    {
     "data": {
      "text/plain": [
       "16"
      ]
     },
     "execution_count": 80,
     "metadata": {},
     "output_type": "execute_result"
    }
   ],
   "source": [
    "2**4"
   ]
  },
  {
   "cell_type": "code",
   "execution_count": 81,
   "metadata": {
    "ExecuteTime": {
     "end_time": "2021-01-31T13:45:35.915059Z",
     "start_time": "2021-01-31T13:45:35.903923Z"
    }
   },
   "outputs": [
    {
     "data": {
      "text/plain": [
       "2"
      ]
     },
     "execution_count": 81,
     "metadata": {},
     "output_type": "execute_result"
    }
   ],
   "source": [
    "pow(2,4,7)"
   ]
  },
  {
   "cell_type": "code",
   "execution_count": 82,
   "metadata": {
    "ExecuteTime": {
     "end_time": "2021-01-31T13:45:41.612816Z",
     "start_time": "2021-01-31T13:45:35.916307Z"
    }
   },
   "outputs": [
    {
     "name": "stdout",
     "output_type": "stream",
     "text": [
      "Enter a number :23\n"
     ]
    }
   ],
   "source": [
    "x = input(\"Enter a number :\")"
   ]
  },
  {
   "cell_type": "code",
   "execution_count": 83,
   "metadata": {
    "ExecuteTime": {
     "end_time": "2021-01-31T13:45:41.622010Z",
     "start_time": "2021-01-31T13:45:41.615993Z"
    }
   },
   "outputs": [
    {
     "data": {
      "text/plain": [
       "str"
      ]
     },
     "execution_count": 83,
     "metadata": {},
     "output_type": "execute_result"
    }
   ],
   "source": [
    "type(x)"
   ]
  },
  {
   "cell_type": "code",
   "execution_count": 84,
   "metadata": {
    "ExecuteTime": {
     "end_time": "2021-01-31T13:45:41.677196Z",
     "start_time": "2021-01-31T13:45:41.630329Z"
    }
   },
   "outputs": [],
   "source": [
    "x = int(x)"
   ]
  },
  {
   "cell_type": "code",
   "execution_count": 85,
   "metadata": {
    "ExecuteTime": {
     "end_time": "2021-01-31T13:45:41.689736Z",
     "start_time": "2021-01-31T13:45:41.678453Z"
    }
   },
   "outputs": [
    {
     "data": {
      "text/plain": [
       "int"
      ]
     },
     "execution_count": 85,
     "metadata": {},
     "output_type": "execute_result"
    }
   ],
   "source": [
    "type(x)"
   ]
  },
  {
   "cell_type": "code",
   "execution_count": 86,
   "metadata": {
    "ExecuteTime": {
     "end_time": "2021-01-31T13:45:41.701812Z",
     "start_time": "2021-01-31T13:45:41.690729Z"
    }
   },
   "outputs": [
    {
     "name": "stdout",
     "output_type": "stream",
     "text": [
      "-11\n"
     ]
    }
   ],
   "source": [
    "print(x-34)"
   ]
  },
  {
   "cell_type": "code",
   "execution_count": 87,
   "metadata": {
    "ExecuteTime": {
     "end_time": "2021-01-31T13:45:47.410969Z",
     "start_time": "2021-01-31T13:45:41.703035Z"
    }
   },
   "outputs": [
    {
     "name": "stdout",
     "output_type": "stream",
     "text": [
      "Enter a real number :23.456\n"
     ]
    }
   ],
   "source": [
    "a = float(input(\"Enter a real number :\"))"
   ]
  },
  {
   "cell_type": "code",
   "execution_count": 88,
   "metadata": {
    "ExecuteTime": {
     "end_time": "2021-01-31T13:45:47.418933Z",
     "start_time": "2021-01-31T13:45:47.413437Z"
    }
   },
   "outputs": [
    {
     "data": {
      "text/plain": [
       "float"
      ]
     },
     "execution_count": 88,
     "metadata": {},
     "output_type": "execute_result"
    }
   ],
   "source": [
    "type(a)"
   ]
  },
  {
   "cell_type": "code",
   "execution_count": 89,
   "metadata": {
    "ExecuteTime": {
     "end_time": "2021-01-31T13:45:52.756565Z",
     "start_time": "2021-01-31T13:45:47.421320Z"
    }
   },
   "outputs": [
    {
     "name": "stdout",
     "output_type": "stream",
     "text": [
      "Enter a real number : 54.563\n"
     ]
    }
   ],
   "source": [
    "b = float(input(\"Enter a real number : \"))"
   ]
  },
  {
   "cell_type": "code",
   "execution_count": 90,
   "metadata": {
    "ExecuteTime": {
     "end_time": "2021-01-31T13:45:52.769148Z",
     "start_time": "2021-01-31T13:45:52.761404Z"
    }
   },
   "outputs": [
    {
     "name": "stdout",
     "output_type": "stream",
     "text": [
      "Help on built-in function pow in module builtins:\n",
      "\n",
      "pow(base, exp, mod=None)\n",
      "    Equivalent to base**exp with 2 arguments or base**exp % mod with 3 arguments\n",
      "    \n",
      "    Some types, such as ints, are able to use a more efficient algorithm when\n",
      "    invoked using the three argument form.\n",
      "\n"
     ]
    }
   ],
   "source": [
    "help(pow)"
   ]
  },
  {
   "cell_type": "code",
   "execution_count": 91,
   "metadata": {
    "ExecuteTime": {
     "end_time": "2021-01-31T13:45:52.825533Z",
     "start_time": "2021-01-31T13:45:52.770730Z"
    }
   },
   "outputs": [
    {
     "name": "stdout",
     "output_type": "stream",
     "text": [
      "Help on method raw_input in module ipykernel.kernelbase:\n",
      "\n",
      "raw_input(prompt='') method of ipykernel.ipkernel.IPythonKernel instance\n",
      "    Forward raw_input to frontends\n",
      "    \n",
      "    Raises\n",
      "    ------\n",
      "    StdinNotImplentedError if active frontend doesn't support stdin.\n",
      "\n"
     ]
    }
   ],
   "source": [
    "help(input)"
   ]
  },
  {
   "cell_type": "code",
   "execution_count": 92,
   "metadata": {
    "ExecuteTime": {
     "end_time": "2021-01-31T13:46:03.716834Z",
     "start_time": "2021-01-31T13:45:52.826691Z"
    }
   },
   "outputs": [
    {
     "name": "stdout",
     "output_type": "stream",
     "text": [
      "a: 45\n",
      "b: 51\n",
      "I am outside the if condition\n"
     ]
    }
   ],
   "source": [
    "a = int(input(\"a: \"))\n",
    "b = int(input(\"b: \"))\n",
    "if a>b:\n",
    "    print(a)\n",
    "    print(\"I am still inside if condition\")\n",
    "print(\"I am outside the if condition\")"
   ]
  },
  {
   "cell_type": "code",
   "execution_count": 93,
   "metadata": {
    "ExecuteTime": {
     "end_time": "2021-01-31T13:46:08.299080Z",
     "start_time": "2021-01-31T13:46:03.719939Z"
    }
   },
   "outputs": [
    {
     "name": "stdout",
     "output_type": "stream",
     "text": [
      "a: 45\n",
      "b: 63\n",
      "63\n"
     ]
    }
   ],
   "source": [
    "a = int(input(\"a: \"))\n",
    "b = int(input(\"b: \"))\n",
    "if a>b:\n",
    "    print(a)\n",
    "if b>a:\n",
    "    print(b)"
   ]
  },
  {
   "cell_type": "code",
   "execution_count": 94,
   "metadata": {
    "ExecuteTime": {
     "end_time": "2021-01-31T13:46:08.316739Z",
     "start_time": "2021-01-31T13:46:08.310173Z"
    }
   },
   "outputs": [
    {
     "name": "stdout",
     "output_type": "stream",
     "text": [
      "Equal\n",
      "Not in if\n"
     ]
    }
   ],
   "source": [
    "a = 10\n",
    "b = 10\n",
    "if a==b:\n",
    "    print(\"Equal\")\n",
    "elif a>b:\n",
    "    print(\"A\")\n",
    "else:\n",
    "    print(\"B\")\n",
    "print(\"Not in if\")"
   ]
  },
  {
   "cell_type": "code",
   "execution_count": 95,
   "metadata": {
    "ExecuteTime": {
     "end_time": "2021-01-31T13:46:12.784411Z",
     "start_time": "2021-01-31T13:46:08.321357Z"
    }
   },
   "outputs": [
    {
     "name": "stdout",
     "output_type": "stream",
     "text": [
      "Enter Marks :84\n",
      "A- Grade\n"
     ]
    }
   ],
   "source": [
    "a = float(input(\"Enter Marks :\"))\n",
    "if a >= 85:\n",
    "    print(\"A Grade\")\n",
    "elif (a < 85) and (a >= 80):\n",
    "    print(\"A- Grade\")\n",
    "elif a < 80 and a >= 75:\n",
    "    print(\"B Grade\")\n",
    "elif a < 75 and a >= 70:\n",
    "    print(\"B- Grade\")\n",
    "else:\n",
    "    print(\"Below Average\")"
   ]
  },
  {
   "cell_type": "code",
   "execution_count": 96,
   "metadata": {
    "ExecuteTime": {
     "end_time": "2021-01-31T13:46:12.793634Z",
     "start_time": "2021-01-31T13:46:12.785742Z"
    }
   },
   "outputs": [
    {
     "name": "stdout",
     "output_type": "stream",
     "text": [
      ">10\n"
     ]
    }
   ],
   "source": [
    "a = 13\n",
    "if a>10:\n",
    "    print(\">10\")\n",
    "elif not(a>10):\n",
    "    print(\"Else part\")"
   ]
  },
  {
   "cell_type": "code",
   "execution_count": 97,
   "metadata": {
    "ExecuteTime": {
     "end_time": "2021-01-31T13:46:17.539047Z",
     "start_time": "2021-01-31T13:46:12.794925Z"
    }
   },
   "outputs": [
    {
     "name": "stdout",
     "output_type": "stream",
     "text": [
      "80\n",
      ">10\n",
      "Inside the top if\n",
      ">20\n",
      "Inside the nested if\n",
      ">30\n",
      "inside the nested if of nested if\n",
      "Outside all ifs\n"
     ]
    }
   ],
   "source": [
    "a = int(input())\n",
    "if a>10:\n",
    "    print(\">10\")\n",
    "    print(\"Inside the top if\")\n",
    "    if a>20:\n",
    "        print(\">20\")\n",
    "        print(\"Inside the nested if\")\n",
    "        if a>30:\n",
    "            print(\">30\")\n",
    "            print(\"inside the nested if of nested if\")\n",
    "        else:\n",
    "            print(\"<=30\")\n",
    "            print(\"inside the else part of nested if of nested if\")\n",
    "    else:\n",
    "        print(\"<=20\")\n",
    "        print(\"Inside the else part of nested if\")\n",
    "print(\"Outside all ifs\")"
   ]
  },
  {
   "cell_type": "code",
   "execution_count": 98,
   "metadata": {
    "ExecuteTime": {
     "end_time": "2021-01-31T13:46:21.427910Z",
     "start_time": "2021-01-31T13:46:17.540686Z"
    }
   },
   "outputs": [
    {
     "name": "stdout",
     "output_type": "stream",
     "text": [
      "Enter a real number :23.51\n",
      "Odd\n"
     ]
    }
   ],
   "source": [
    "# single line comment\n",
    "\"\"\" \n",
    "User will enter a floating point number let say 238.915. Your task\n",
    "is to find out the integer portion before the point (in this case 238)\n",
    "and then check if that integer portion is an even number or not?\n",
    "\"\"\"\n",
    "x = float(input(\"Enter a real number :\"))\n",
    "y = round(x)\n",
    "if x>0:    \n",
    "    if y>x:\n",
    "        intPortion = y-1 # 29.6\n",
    "    else:\n",
    "        intPortion = y\n",
    "else:\n",
    "    if y<x:\n",
    "        intPortion = y+1\n",
    "    else:\n",
    "        intPortion = y\n",
    "\n",
    "if intPortion%2 == 0:\n",
    "    print(\"Even\")\n",
    "else:\n",
    "    print(\"Odd\")"
   ]
  },
  {
   "cell_type": "code",
   "execution_count": 99,
   "metadata": {
    "ExecuteTime": {
     "end_time": "2021-01-31T13:46:25.514436Z",
     "start_time": "2021-01-31T13:46:21.430494Z"
    }
   },
   "outputs": [
    {
     "name": "stdout",
     "output_type": "stream",
     "text": [
      "Enter a real number :752\n",
      "Even\n"
     ]
    }
   ],
   "source": [
    "# single line comment\n",
    "\"\"\" \n",
    "User will enter a floating point number let say 238.915. Your task\n",
    "is to find out the integer portion before the point (in this case 238)\n",
    "and then check if that integer portion is an even number or not?\n",
    "\"\"\"\n",
    "x = float(input(\"Enter a real number :\"))\n",
    "y = int(x)\n",
    "if y%2 == 0:\n",
    "    print(\"Even\")\n",
    "else:\n",
    "    print(\"Odd\")"
   ]
  },
  {
   "cell_type": "code",
   "execution_count": 100,
   "metadata": {
    "ExecuteTime": {
     "end_time": "2021-01-31T13:46:28.563379Z",
     "start_time": "2021-01-31T13:46:25.517232Z"
    }
   },
   "outputs": [
    {
     "name": "stdout",
     "output_type": "stream",
     "text": [
      "54\n",
      "1\n",
      "This is iteration number : 1\n",
      "4\n",
      "This is iteration number : 2\n",
      "9\n",
      "This is iteration number : 3\n",
      "16\n",
      "This is iteration number : 4\n",
      "25\n",
      "This is iteration number : 5\n",
      "36\n",
      "This is iteration number : 6\n",
      "49\n",
      "This is iteration number : 7\n",
      "64\n",
      "This is iteration number : 8\n",
      "81\n",
      "This is iteration number : 9\n",
      "100\n",
      "This is iteration number : 10\n",
      "121\n",
      "This is iteration number : 11\n",
      "144\n",
      "This is iteration number : 12\n",
      "169\n",
      "This is iteration number : 13\n",
      "196\n",
      "This is iteration number : 14\n",
      "225\n",
      "This is iteration number : 15\n",
      "256\n",
      "This is iteration number : 16\n",
      "289\n",
      "This is iteration number : 17\n",
      "324\n",
      "This is iteration number : 18\n",
      "361\n",
      "This is iteration number : 19\n",
      "400\n",
      "This is iteration number : 20\n",
      "441\n",
      "This is iteration number : 21\n",
      "484\n",
      "This is iteration number : 22\n",
      "529\n",
      "This is iteration number : 23\n",
      "576\n",
      "This is iteration number : 24\n",
      "625\n",
      "This is iteration number : 25\n",
      "676\n",
      "This is iteration number : 26\n",
      "729\n",
      "This is iteration number : 27\n",
      "784\n",
      "This is iteration number : 28\n",
      "841\n",
      "This is iteration number : 29\n",
      "900\n",
      "This is iteration number : 30\n",
      "961\n",
      "This is iteration number : 31\n",
      "1024\n",
      "This is iteration number : 32\n",
      "1089\n",
      "This is iteration number : 33\n",
      "1156\n",
      "This is iteration number : 34\n",
      "1225\n",
      "This is iteration number : 35\n",
      "1296\n",
      "This is iteration number : 36\n",
      "1369\n",
      "This is iteration number : 37\n",
      "1444\n",
      "This is iteration number : 38\n",
      "1521\n",
      "This is iteration number : 39\n",
      "1600\n",
      "This is iteration number : 40\n",
      "1681\n",
      "This is iteration number : 41\n",
      "1764\n",
      "This is iteration number : 42\n",
      "1849\n",
      "This is iteration number : 43\n",
      "1936\n",
      "This is iteration number : 44\n",
      "2025\n",
      "This is iteration number : 45\n",
      "2116\n",
      "This is iteration number : 46\n",
      "2209\n",
      "This is iteration number : 47\n",
      "2304\n",
      "This is iteration number : 48\n",
      "2401\n",
      "This is iteration number : 49\n",
      "2500\n",
      "This is iteration number : 50\n",
      "2601\n",
      "This is iteration number : 51\n",
      "2704\n",
      "This is iteration number : 52\n",
      "2809\n",
      "This is iteration number : 53\n",
      "Loop done\n"
     ]
    }
   ],
   "source": [
    "n = int(input())\n",
    "i = 1\n",
    "while i < n:\n",
    "    print(i**2)\n",
    "    print(\"This is iteration number :\", i)\n",
    "    i+=1 # i = i+1\n",
    "print(\"Loop done\")"
   ]
  },
  {
   "cell_type": "code",
   "execution_count": 101,
   "metadata": {
    "ExecuteTime": {
     "end_time": "2021-01-31T13:46:28.575623Z",
     "start_time": "2021-01-31T13:46:28.570557Z"
    }
   },
   "outputs": [
    {
     "name": "stdout",
     "output_type": "stream",
     "text": [
      "inside Else\n",
      "inside Else\n",
      "inside Else\n",
      "inside Else\n",
      "inside Else\n",
      "inside Else\n",
      "inside Else\n",
      "inside Else\n",
      "Inside if\n",
      "done\n"
     ]
    }
   ],
   "source": [
    "n = 10\n",
    "i = 1\n",
    "while True:\n",
    "    if i%9 == 0:\n",
    "        print(\"Inside if\")\n",
    "        break\n",
    "    else:\n",
    "        print(\"inside Else\")\n",
    "        i = i+1 # i+=1\n",
    "print(\"done\")"
   ]
  },
  {
   "cell_type": "code",
   "execution_count": 102,
   "metadata": {
    "ExecuteTime": {
     "end_time": "2021-01-31T13:46:28.587835Z",
     "start_time": "2021-01-31T13:46:28.577339Z"
    }
   },
   "outputs": [
    {
     "name": "stdout",
     "output_type": "stream",
     "text": [
      "inside if\n",
      "inside if\n",
      "inside if\n",
      "inside if\n",
      "inside if\n",
      "inside if\n",
      "inside if\n",
      "inside if\n",
      "something\n",
      "somethingelse\n",
      "done\n"
     ]
    }
   ],
   "source": [
    "n = 10\n",
    "i = 1\n",
    "while True:\n",
    "    if i%9 != 0:\n",
    "        print(\"inside if\")\n",
    "        i +=1\n",
    "        continue\n",
    "    print(\"something\")\n",
    "    print(\"somethingelse\")\n",
    "    break\n",
    "    \n",
    "print(\"done\")"
   ]
  },
  {
   "cell_type": "code",
   "execution_count": 103,
   "metadata": {
    "ExecuteTime": {
     "end_time": "2021-01-31T13:46:28.598493Z",
     "start_time": "2021-01-31T13:46:28.589421Z"
    }
   },
   "outputs": [
    {
     "name": "stdout",
     "output_type": "stream",
     "text": [
      "1\n",
      "4\n",
      "7\n",
      "10\n",
      "13\n",
      "16\n",
      "19\n",
      "[1, 16, 49, 100, 169, 256, 361]\n"
     ]
    }
   ],
   "source": [
    "L = []\n",
    "for i in range(1,20,3):\n",
    "    print(i)\n",
    "    L.append(i**2)\n",
    "print(L)"
   ]
  },
  {
   "cell_type": "code",
   "execution_count": 104,
   "metadata": {
    "ExecuteTime": {
     "end_time": "2021-01-31T13:46:28.611020Z",
     "start_time": "2021-01-31T13:46:28.600488Z"
    }
   },
   "outputs": [
    {
     "name": "stdout",
     "output_type": "stream",
     "text": [
      "cherry\n",
      "4.9\n",
      "Out side the loop\n"
     ]
    }
   ],
   "source": [
    "S = {\"apple\",4.9,\"cherry\"}\n",
    "i = 1\n",
    "for x in S:\n",
    "    print(x)\n",
    "    i+=1\n",
    "    if i==3:\n",
    "        break\n",
    "    else:\n",
    "        pass\n",
    "else:\n",
    "    print(\"Loop terminates with success\")\n",
    "print(\"Out side the loop\")"
   ]
  },
  {
   "cell_type": "code",
   "execution_count": 105,
   "metadata": {
    "ExecuteTime": {
     "end_time": "2021-01-31T13:46:28.634662Z",
     "start_time": "2021-01-31T13:46:28.612384Z"
    }
   },
   "outputs": [
    {
     "name": "stdout",
     "output_type": "stream",
     "text": [
      "A 10\n",
      "B -19\n",
      "C abc\n"
     ]
    }
   ],
   "source": [
    "D = {\"A\":10,\"B\":-19,\"C\":\"abc\"}\n",
    "for x in D:\n",
    "    print(x,D[x])"
   ]
  },
  {
   "cell_type": "code",
   "execution_count": 106,
   "metadata": {
    "ExecuteTime": {
     "end_time": "2021-01-31T13:46:28.643263Z",
     "start_time": "2021-01-31T13:46:28.636212Z"
    }
   },
   "outputs": [
    {
     "name": "stdout",
     "output_type": "stream",
     "text": [
      "[-5, 1, 2, 2, 3, 4, 7, 9]\n"
     ]
    }
   ],
   "source": [
    "\"\"\" Given a list of numbers i.e. [1,2,4,-5,7,9,3,2], make another list\n",
    "that contains all the items in sorted order from min to max. i.e. your \n",
    "result will be another list like [-5,1,2,2,3,7,9]\n",
    "\"\"\"\n",
    "L = [1,2,4,-5,7,9,3,2]\n",
    "for j in range(len(L)):\n",
    "    m = L[j]\n",
    "    idx = j\n",
    "    c = j\n",
    "    for i in range(j,len(L)):\n",
    "        if L[i]<m:\n",
    "            m = L[i]\n",
    "            idx = c\n",
    "        c+=1    \n",
    "    tmp = L[j]\n",
    "    L[j] = m\n",
    "    L[idx] = tmp\n",
    "print(L)"
   ]
  },
  {
   "cell_type": "code",
   "execution_count": 107,
   "metadata": {
    "ExecuteTime": {
     "end_time": "2021-01-31T13:46:28.655769Z",
     "start_time": "2021-01-31T13:46:28.644773Z"
    }
   },
   "outputs": [
    {
     "data": {
      "text/plain": [
       "[-5, 1, 2, 2, 3, 4, 7, 9]"
      ]
     },
     "execution_count": 107,
     "metadata": {},
     "output_type": "execute_result"
    }
   ],
   "source": [
    "L"
   ]
  },
  {
   "cell_type": "code",
   "execution_count": 108,
   "metadata": {
    "ExecuteTime": {
     "end_time": "2021-01-31T13:46:28.668139Z",
     "start_time": "2021-01-31T13:46:28.657068Z"
    }
   },
   "outputs": [],
   "source": [
    "def printSuccess():\n",
    "    print(\"I am done\")\n",
    "    print(\"send me another task\")"
   ]
  },
  {
   "cell_type": "code",
   "execution_count": 109,
   "metadata": {
    "ExecuteTime": {
     "end_time": "2021-01-31T13:46:28.682248Z",
     "start_time": "2021-01-31T13:46:28.669740Z"
    }
   },
   "outputs": [
    {
     "name": "stdout",
     "output_type": "stream",
     "text": [
      "I am done\n",
      "send me another task\n"
     ]
    }
   ],
   "source": [
    "printSuccess()"
   ]
  },
  {
   "cell_type": "code",
   "execution_count": 110,
   "metadata": {
    "ExecuteTime": {
     "end_time": "2021-01-31T13:46:28.693040Z",
     "start_time": "2021-01-31T13:46:28.684327Z"
    }
   },
   "outputs": [],
   "source": [
    "def printSuccess2():\n",
    "    \"\"\" This function is doing nothing except printing a message.\n",
    "    That message is \"hellow\"\n",
    "    \"\"\" \n",
    "    print(\"hellow\")"
   ]
  },
  {
   "cell_type": "code",
   "execution_count": 111,
   "metadata": {
    "ExecuteTime": {
     "end_time": "2021-01-31T13:46:28.706626Z",
     "start_time": "2021-01-31T13:46:28.694300Z"
    }
   },
   "outputs": [
    {
     "name": "stdout",
     "output_type": "stream",
     "text": [
      "Help on function printSuccess2 in module __main__:\n",
      "\n",
      "printSuccess2()\n",
      "    This function is doing nothing except printing a message.\n",
      "    That message is \"hellow\"\n",
      "\n"
     ]
    }
   ],
   "source": [
    "help(printSuccess2)"
   ]
  },
  {
   "cell_type": "code",
   "execution_count": 112,
   "metadata": {
    "ExecuteTime": {
     "end_time": "2021-01-31T13:46:28.718246Z",
     "start_time": "2021-01-31T13:46:28.707805Z"
    }
   },
   "outputs": [],
   "source": [
    "def printMsg(msg):\n",
    "    \"\"\" The function prints the message supplied by the user\n",
    "    or prints that msg is not in the form of string\"\"\"\n",
    "    \n",
    "    if isinstance(msg,str):\n",
    "        print(msg)\n",
    "    else:\n",
    "        print(\"Your input argument is not a string\")\n",
    "        print(\"Here is the type of what you have supplied :\",type(msg))"
   ]
  },
  {
   "cell_type": "code",
   "execution_count": 113,
   "metadata": {
    "ExecuteTime": {
     "end_time": "2021-01-31T13:46:28.734713Z",
     "start_time": "2021-01-31T13:46:28.721110Z"
    }
   },
   "outputs": [],
   "source": [
    "printMsg?"
   ]
  },
  {
   "cell_type": "code",
   "execution_count": 114,
   "metadata": {
    "ExecuteTime": {
     "end_time": "2021-01-31T13:46:28.750234Z",
     "start_time": "2021-01-31T13:46:28.736171Z"
    }
   },
   "outputs": [],
   "source": [
    "def checkArgs(a,b,c):\n",
    "    if isinstance(a,(int,float)) and isinstance(b,(int,float)) and isinstance(c,(int,float)):\n",
    "        print((a+b+c)**2)\n",
    "    else:\n",
    "        print(\"Error: the input arguements are not of the expected types\")"
   ]
  },
  {
   "cell_type": "code",
   "execution_count": 115,
   "metadata": {
    "ExecuteTime": {
     "end_time": "2021-01-31T13:46:28.766316Z",
     "start_time": "2021-01-31T13:46:28.751824Z"
    }
   },
   "outputs": [
    {
     "name": "stdout",
     "output_type": "stream",
     "text": [
      "144\n"
     ]
    }
   ],
   "source": [
    "checkArgs(3,4,5)"
   ]
  },
  {
   "cell_type": "code",
   "execution_count": 117,
   "metadata": {
    "ExecuteTime": {
     "end_time": "2021-01-31T13:47:02.250762Z",
     "start_time": "2021-01-31T13:47:02.243893Z"
    }
   },
   "outputs": [
    {
     "ename": "TypeError",
     "evalue": "checkArgs() missing 1 required positional argument: 'c'",
     "output_type": "error",
     "traceback": [
      "\u001b[0;31m---------------------------------------------------------------------------\u001b[0m",
      "\u001b[0;31mTypeError\u001b[0m                                 Traceback (most recent call last)",
      "\u001b[0;32m<ipython-input-117-f6f193ef9e63>\u001b[0m in \u001b[0;36m<module>\u001b[0;34m\u001b[0m\n\u001b[0;32m----> 1\u001b[0;31m \u001b[0mcheckArgs\u001b[0m\u001b[0;34m(\u001b[0m\u001b[0;36m3\u001b[0m\u001b[0;34m,\u001b[0m\u001b[0;36m4\u001b[0m\u001b[0;34m)\u001b[0m\u001b[0;34m\u001b[0m\u001b[0;34m\u001b[0m\u001b[0m\n\u001b[0m",
      "\u001b[0;31mTypeError\u001b[0m: checkArgs() missing 1 required positional argument: 'c'"
     ]
    }
   ],
   "source": [
    "checkArgs(3,4)"
   ]
  },
  {
   "cell_type": "code",
   "execution_count": 120,
   "metadata": {
    "ExecuteTime": {
     "end_time": "2021-01-31T13:47:21.062103Z",
     "start_time": "2021-01-31T13:47:21.058934Z"
    }
   },
   "outputs": [
    {
     "name": "stdout",
     "output_type": "stream",
     "text": [
      "Error: the input arguements are not of the expected types\n"
     ]
    }
   ],
   "source": [
    "checkArgs(3,4,'g')"
   ]
  },
  {
   "cell_type": "code",
   "execution_count": 121,
   "metadata": {
    "ExecuteTime": {
     "end_time": "2021-01-31T13:47:21.717721Z",
     "start_time": "2021-01-31T13:47:21.714433Z"
    }
   },
   "outputs": [],
   "source": [
    "def f(a,b,c):\n",
    "    print(\"A is :\",a)\n",
    "    print(\"B is :\",b)\n",
    "    print(\"C is :\",c)"
   ]
  },
  {
   "cell_type": "code",
   "execution_count": 122,
   "metadata": {
    "ExecuteTime": {
     "end_time": "2021-01-31T13:47:22.116473Z",
     "start_time": "2021-01-31T13:47:22.113316Z"
    }
   },
   "outputs": [
    {
     "name": "stdout",
     "output_type": "stream",
     "text": [
      "A is : 3\n",
      "B is : game\n",
      "C is : 2\n"
     ]
    }
   ],
   "source": [
    "#f(2,3,\"game\")\n",
    "f(3,\"game\",2)"
   ]
  },
  {
   "cell_type": "code",
   "execution_count": 123,
   "metadata": {
    "ExecuteTime": {
     "end_time": "2021-01-31T13:47:22.520448Z",
     "start_time": "2021-01-31T13:47:22.516801Z"
    }
   },
   "outputs": [
    {
     "name": "stdout",
     "output_type": "stream",
     "text": [
      "A is : 2\n",
      "B is : 3\n",
      "C is : game\n"
     ]
    }
   ],
   "source": [
    "#f(a = 2,b=3,c=\"game\")\n",
    "f(c=\"game\",a=2,b=3)"
   ]
  },
  {
   "cell_type": "code",
   "execution_count": 124,
   "metadata": {
    "ExecuteTime": {
     "end_time": "2021-01-31T13:47:22.879113Z",
     "start_time": "2021-01-31T13:47:22.876484Z"
    }
   },
   "outputs": [],
   "source": [
    "def myadd(a,b):\n",
    "    sumValue = a+b\n",
    "    return sumValue"
   ]
  },
  {
   "cell_type": "code",
   "execution_count": 125,
   "metadata": {
    "ExecuteTime": {
     "end_time": "2021-01-31T13:47:23.061009Z",
     "start_time": "2021-01-31T13:47:23.056795Z"
    }
   },
   "outputs": [
    {
     "name": "stdout",
     "output_type": "stream",
     "text": [
      "5\n"
     ]
    }
   ],
   "source": [
    "d = myadd(2,3)\n",
    "print(d)"
   ]
  },
  {
   "cell_type": "code",
   "execution_count": 126,
   "metadata": {
    "ExecuteTime": {
     "end_time": "2021-01-31T13:47:23.229539Z",
     "start_time": "2021-01-31T13:47:23.225313Z"
    }
   },
   "outputs": [],
   "source": [
    "variableOutSideTheFunction = 3"
   ]
  },
  {
   "cell_type": "code",
   "execution_count": 127,
   "metadata": {
    "ExecuteTime": {
     "end_time": "2021-01-31T13:47:23.381864Z",
     "start_time": "2021-01-31T13:47:23.377401Z"
    }
   },
   "outputs": [],
   "source": [
    "def g():\n",
    "    variableOutSideTheFunction = 5\n",
    "    #print(variableOutSideTheFunction)"
   ]
  },
  {
   "cell_type": "code",
   "execution_count": 128,
   "metadata": {
    "ExecuteTime": {
     "end_time": "2021-01-31T13:47:23.560043Z",
     "start_time": "2021-01-31T13:47:23.554919Z"
    }
   },
   "outputs": [
    {
     "name": "stdout",
     "output_type": "stream",
     "text": [
      "<class 'NoneType'>\n"
     ]
    }
   ],
   "source": [
    "print(type(g()))"
   ]
  },
  {
   "cell_type": "code",
   "execution_count": 129,
   "metadata": {
    "ExecuteTime": {
     "end_time": "2021-01-31T13:47:23.708556Z",
     "start_time": "2021-01-31T13:47:23.702955Z"
    }
   },
   "outputs": [],
   "source": [
    "def h():\n",
    "    print(\"A\")\n",
    "    a = 3\n",
    "    b = 5\n",
    "    c = a+b\n",
    "    print(\"something\")\n",
    "    return c\n",
    "    print(\"B\")\n",
    "    print(\"C\")"
   ]
  },
  {
   "cell_type": "code",
   "execution_count": 130,
   "metadata": {
    "ExecuteTime": {
     "end_time": "2021-01-31T13:47:23.877963Z",
     "start_time": "2021-01-31T13:47:23.870765Z"
    }
   },
   "outputs": [
    {
     "name": "stdout",
     "output_type": "stream",
     "text": [
      "A\n",
      "something\n",
      "<class 'int'>\n"
     ]
    }
   ],
   "source": [
    "print(type(h()))"
   ]
  },
  {
   "cell_type": "code",
   "execution_count": 131,
   "metadata": {
    "ExecuteTime": {
     "end_time": "2021-01-31T13:47:24.044701Z",
     "start_time": "2021-01-31T13:47:24.041371Z"
    }
   },
   "outputs": [],
   "source": [
    "def r():\n",
    "    a = 5\n",
    "    b = 7\n",
    "    d = \"something\"\n",
    "    return a,b,d"
   ]
  },
  {
   "cell_type": "code",
   "execution_count": 132,
   "metadata": {
    "ExecuteTime": {
     "end_time": "2021-01-31T13:47:24.203509Z",
     "start_time": "2021-01-31T13:47:24.199278Z"
    }
   },
   "outputs": [
    {
     "name": "stdout",
     "output_type": "stream",
     "text": [
      "5 7 something\n"
     ]
    }
   ],
   "source": [
    "x,y,z = r()\n",
    "print(x,y,z)"
   ]
  },
  {
   "cell_type": "code",
   "execution_count": 133,
   "metadata": {
    "ExecuteTime": {
     "end_time": "2021-01-31T13:47:24.364311Z",
     "start_time": "2021-01-31T13:47:24.361345Z"
    }
   },
   "outputs": [],
   "source": [
    "def myAddUniversal(*args):\n",
    "    s = 0\n",
    "    for i in range(len(args)):\n",
    "        s += args[i] # s = s+args[i]\n",
    "    return s"
   ]
  },
  {
   "cell_type": "code",
   "execution_count": 134,
   "metadata": {
    "ExecuteTime": {
     "end_time": "2021-01-31T13:47:24.521446Z",
     "start_time": "2021-01-31T13:47:24.515468Z"
    }
   },
   "outputs": [
    {
     "name": "stdout",
     "output_type": "stream",
     "text": [
      "93.6\n"
     ]
    }
   ],
   "source": [
    "print(myAddUniversal(2,4,5,4.6,78))"
   ]
  },
  {
   "cell_type": "code",
   "execution_count": 135,
   "metadata": {
    "ExecuteTime": {
     "end_time": "2021-01-31T13:47:24.691336Z",
     "start_time": "2021-01-31T13:47:24.686656Z"
    }
   },
   "outputs": [],
   "source": [
    "def printAllVariableNamesAndValues(**args):\n",
    "    for x in args:\n",
    "        print(\"Variable Name is :\",x,\" And Value is :\",args[x])"
   ]
  },
  {
   "cell_type": "code",
   "execution_count": 136,
   "metadata": {
    "ExecuteTime": {
     "end_time": "2021-01-31T13:47:24.859952Z",
     "start_time": "2021-01-31T13:47:24.852550Z"
    }
   },
   "outputs": [
    {
     "name": "stdout",
     "output_type": "stream",
     "text": [
      "Variable Name is : a  And Value is : 3\n",
      "Variable Name is : b  And Value is : B\n",
      "Variable Name is : c  And Value is : CCC\n",
      "Variable Name is : y  And Value is : 6.7\n"
     ]
    }
   ],
   "source": [
    "printAllVariableNamesAndValues(a = 3,b=\"B\",c=\"CCC\",y=6.7)"
   ]
  },
  {
   "cell_type": "code",
   "execution_count": 137,
   "metadata": {
    "ExecuteTime": {
     "end_time": "2021-01-31T13:47:25.010756Z",
     "start_time": "2021-01-31T13:47:25.006677Z"
    }
   },
   "outputs": [],
   "source": [
    "def gg(s=4):\n",
    "    print(s)"
   ]
  },
  {
   "cell_type": "code",
   "execution_count": 138,
   "metadata": {
    "ExecuteTime": {
     "end_time": "2021-01-31T13:47:25.195528Z",
     "start_time": "2021-01-31T13:47:25.192536Z"
    }
   },
   "outputs": [
    {
     "name": "stdout",
     "output_type": "stream",
     "text": [
      "4\n"
     ]
    }
   ],
   "source": [
    "gg()"
   ]
  },
  {
   "cell_type": "code",
   "execution_count": 139,
   "metadata": {
    "ExecuteTime": {
     "end_time": "2021-01-31T13:47:25.360982Z",
     "start_time": "2021-01-31T13:47:25.356769Z"
    }
   },
   "outputs": [
    {
     "name": "stdout",
     "output_type": "stream",
     "text": [
      "56\n"
     ]
    }
   ],
   "source": [
    "gg(56)"
   ]
  },
  {
   "cell_type": "code",
   "execution_count": 140,
   "metadata": {
    "ExecuteTime": {
     "end_time": "2021-01-31T13:47:25.567466Z",
     "start_time": "2021-01-31T13:47:25.563168Z"
    }
   },
   "outputs": [
    {
     "name": "stdout",
     "output_type": "stream",
     "text": [
      "[-9, 2, 3]\n"
     ]
    }
   ],
   "source": [
    "L = [1,2,3]\n",
    "L2 = L\n",
    "L2[0] = -9\n",
    "print(L)"
   ]
  },
  {
   "cell_type": "code",
   "execution_count": 141,
   "metadata": {
    "ExecuteTime": {
     "end_time": "2021-01-31T13:47:25.875107Z",
     "start_time": "2021-01-31T13:47:25.872926Z"
    }
   },
   "outputs": [],
   "source": [
    "def ff(L=[1,2]):\n",
    "    for i in L:\n",
    "        print(i)"
   ]
  },
  {
   "cell_type": "code",
   "execution_count": 142,
   "metadata": {
    "ExecuteTime": {
     "end_time": "2021-01-31T13:47:26.070888Z",
     "start_time": "2021-01-31T13:47:26.068024Z"
    }
   },
   "outputs": [
    {
     "name": "stdout",
     "output_type": "stream",
     "text": [
      "1\n",
      "2\n"
     ]
    }
   ],
   "source": [
    "L2 = [12,3,4]\n",
    "ff()"
   ]
  },
  {
   "cell_type": "code",
   "execution_count": 143,
   "metadata": {
    "ExecuteTime": {
     "end_time": "2021-01-31T13:47:26.227302Z",
     "start_time": "2021-01-31T13:47:26.224720Z"
    }
   },
   "outputs": [
    {
     "name": "stdout",
     "output_type": "stream",
     "text": [
      "12\n",
      "3\n",
      "4\n"
     ]
    }
   ],
   "source": [
    "ff(L2)"
   ]
  },
  {
   "cell_type": "code",
   "execution_count": 144,
   "metadata": {
    "ExecuteTime": {
     "end_time": "2021-01-31T13:47:26.397307Z",
     "start_time": "2021-01-31T13:47:26.392664Z"
    }
   },
   "outputs": [
    {
     "name": "stdout",
     "output_type": "stream",
     "text": [
      "1\n",
      "2\n"
     ]
    }
   ],
   "source": [
    "ff()"
   ]
  },
  {
   "cell_type": "code",
   "execution_count": 145,
   "metadata": {
    "ExecuteTime": {
     "end_time": "2021-01-31T13:47:26.581687Z",
     "start_time": "2021-01-31T13:47:26.577325Z"
    }
   },
   "outputs": [
    {
     "name": "stdout",
     "output_type": "stream",
     "text": [
      "No message was provided\n"
     ]
    }
   ],
   "source": [
    "import sys\n",
    "sys.path.append('/home/ajit/ml/python')\n",
    "import myfuncs as fns\n",
    "fns.printMe()"
   ]
  },
  {
   "cell_type": "code",
   "execution_count": 146,
   "metadata": {
    "ExecuteTime": {
     "end_time": "2021-01-31T13:47:26.751220Z",
     "start_time": "2021-01-31T13:47:26.745180Z"
    }
   },
   "outputs": [
    {
     "name": "stdout",
     "output_type": "stream",
     "text": [
      "This is it\n"
     ]
    }
   ],
   "source": [
    "fns.printMe(\"This is it\")"
   ]
  },
  {
   "cell_type": "code",
   "execution_count": 147,
   "metadata": {
    "ExecuteTime": {
     "end_time": "2021-01-31T13:47:26.935643Z",
     "start_time": "2021-01-31T13:47:26.929681Z"
    }
   },
   "outputs": [
    {
     "name": "stdout",
     "output_type": "stream",
     "text": [
      "A\n",
      "j\n",
      "i\n",
      "t\n"
     ]
    }
   ],
   "source": [
    "fns.printList('Ajit')"
   ]
  },
  {
   "cell_type": "code",
   "execution_count": 148,
   "metadata": {
    "ExecuteTime": {
     "end_time": "2021-01-31T13:47:27.111609Z",
     "start_time": "2021-01-31T13:47:27.106255Z"
    }
   },
   "outputs": [
    {
     "data": {
      "text/plain": [
       "' Given a list of numbers i.e. [1,2,4,-5,7,9,3,2], make another list\\nthat contains all the items in sorted order from min to max. i.e. your \\nresult will be another list like [-5,1,2,2,3,7,9]\\n'"
      ]
     },
     "execution_count": 148,
     "metadata": {},
     "output_type": "execute_result"
    }
   ],
   "source": [
    "\"\"\" Given a list of numbers i.e. [1,2,4,-5,7,9,3,2], make another list\n",
    "that contains all the items in sorted order from min to max. i.e. your \n",
    "result will be another list like [-5,1,2,2,3,7,9]\n",
    "\"\"\""
   ]
  },
  {
   "cell_type": "code",
   "execution_count": 149,
   "metadata": {
    "ExecuteTime": {
     "end_time": "2021-01-31T13:47:27.311035Z",
     "start_time": "2021-01-31T13:47:27.305493Z"
    }
   },
   "outputs": [],
   "source": [
    "def findMin(L):\n",
    "    m = L[0]\n",
    "    idx = 0\n",
    "    i = 0 \n",
    "    for x in L:\n",
    "        if x<m:\n",
    "            m = x \n",
    "            idx = i\n",
    "        else:\n",
    "            pass \n",
    "        i+=1\n",
    "    return m,idx "
   ]
  },
  {
   "cell_type": "code",
   "execution_count": 150,
   "metadata": {
    "ExecuteTime": {
     "end_time": "2021-01-31T13:47:27.489235Z",
     "start_time": "2021-01-31T13:47:27.484672Z"
    }
   },
   "outputs": [],
   "source": [
    "a,b = findMin([2, 4, 5, -1, 3, 9])"
   ]
  },
  {
   "cell_type": "code",
   "execution_count": 151,
   "metadata": {
    "ExecuteTime": {
     "end_time": "2021-01-31T13:47:27.709707Z",
     "start_time": "2021-01-31T13:47:27.705458Z"
    }
   },
   "outputs": [
    {
     "name": "stdout",
     "output_type": "stream",
     "text": [
      "-1 3\n"
     ]
    }
   ],
   "source": [
    "print(a,b)"
   ]
  },
  {
   "cell_type": "code",
   "execution_count": 152,
   "metadata": {
    "ExecuteTime": {
     "end_time": "2021-01-31T13:47:27.981976Z",
     "start_time": "2021-01-31T13:47:27.979095Z"
    }
   },
   "outputs": [],
   "source": [
    "def swapValues(L, idx1, idx2):\n",
    "    tmp = L[idx1]\n",
    "    L[idx1] = L[idx2]\n",
    "    L[idx2] = tmp\n",
    "    return L"
   ]
  },
  {
   "cell_type": "code",
   "execution_count": 153,
   "metadata": {
    "ExecuteTime": {
     "end_time": "2021-01-31T13:47:28.188943Z",
     "start_time": "2021-01-31T13:47:28.186863Z"
    }
   },
   "outputs": [],
   "source": [
    "L = [2,3,7,9,4]"
   ]
  },
  {
   "cell_type": "code",
   "execution_count": 154,
   "metadata": {
    "ExecuteTime": {
     "end_time": "2021-01-31T13:47:28.373480Z",
     "start_time": "2021-01-31T13:47:28.369350Z"
    }
   },
   "outputs": [],
   "source": [
    "L2 = swapValues(L, 2, 3)"
   ]
  },
  {
   "cell_type": "code",
   "execution_count": 155,
   "metadata": {
    "ExecuteTime": {
     "end_time": "2021-01-31T13:47:28.543873Z",
     "start_time": "2021-01-31T13:47:28.538267Z"
    }
   },
   "outputs": [
    {
     "name": "stdout",
     "output_type": "stream",
     "text": [
      "[2, 3, 9, 7, 4]\n"
     ]
    }
   ],
   "source": [
    "print(L2)"
   ]
  },
  {
   "cell_type": "code",
   "execution_count": 156,
   "metadata": {
    "ExecuteTime": {
     "end_time": "2021-01-31T13:47:28.727630Z",
     "start_time": "2021-01-31T13:47:28.722249Z"
    }
   },
   "outputs": [],
   "source": [
    "def sortList(L):\n",
    "    if not(fns.checkIfNumList):\n",
    "        print(\"Error: List does not contain numeric values\")\n",
    "        return\n",
    "    else: \n",
    "        c = 0 \n",
    "        for x in L:\n",
    "            m, idx = fns.findMinStr(L, c)\n",
    "            L = fns.swapValues(L, c, idx)\n",
    "            c+=1\n",
    "    return L\n",
    "    "
   ]
  },
  {
   "cell_type": "code",
   "execution_count": 157,
   "metadata": {
    "ExecuteTime": {
     "end_time": "2021-01-31T13:47:28.902745Z",
     "start_time": "2021-01-31T13:47:28.897401Z"
    }
   },
   "outputs": [
    {
     "name": "stdout",
     "output_type": "stream",
     "text": [
      "[0, 1, 2, 2, 3, 4, 5, 8]\n"
     ]
    }
   ],
   "source": [
    "L2 = sortList([2,1,3,8,2,5,0,4])\n",
    "print(L2)"
   ]
  },
  {
   "cell_type": "code",
   "execution_count": 158,
   "metadata": {
    "ExecuteTime": {
     "end_time": "2021-01-31T13:47:29.088933Z",
     "start_time": "2021-01-31T13:47:29.083957Z"
    }
   },
   "outputs": [
    {
     "name": "stdout",
     "output_type": "stream",
     "text": [
      "The price of this book is: 12\n",
      "The price of this book is: 12\n"
     ]
    }
   ],
   "source": [
    "price = 12\n",
    "s = \"The price of this book\"\n",
    "v = s + ' is: ' + str(price)\n",
    "print(v)\n",
    "print(s,\"is:\",price)"
   ]
  },
  {
   "cell_type": "code",
   "execution_count": 159,
   "metadata": {
    "ExecuteTime": {
     "end_time": "2021-01-31T13:47:29.258085Z",
     "start_time": "2021-01-31T13:47:29.253314Z"
    }
   },
   "outputs": [
    {
     "name": "stdout",
     "output_type": "stream",
     "text": [
      "this is line 1\n",
      "this is line 2\n",
      "this is last line and this line is 3\n"
     ]
    }
   ],
   "source": [
    "a = \"\"\"this is line 1\n",
    "this is line 2\n",
    "this is last line and this line is 3\"\"\"\n",
    "print(a)"
   ]
  },
  {
   "cell_type": "code",
   "execution_count": 160,
   "metadata": {
    "ExecuteTime": {
     "end_time": "2021-01-31T13:47:29.439419Z",
     "start_time": "2021-01-31T13:47:29.434978Z"
    }
   },
   "outputs": [
    {
     "name": "stdout",
     "output_type": "stream",
     "text": [
      " The following options are available:\n",
      "            -a       : does nothing\n",
      "            -b       : also does nothing\n",
      "\n"
     ]
    }
   ],
   "source": [
    "print(\"\"\" The following options are available:\n",
    "            -a       : does nothing\n",
    "            -b       : also does nothing\n",
    "\"\"\")"
   ]
  },
  {
   "cell_type": "code",
   "execution_count": 161,
   "metadata": {
    "ExecuteTime": {
     "end_time": "2021-01-31T13:47:29.622104Z",
     "start_time": "2021-01-31T13:47:29.617139Z"
    }
   },
   "outputs": [
    {
     "name": "stdout",
     "output_type": "stream",
     "text": [
      "r\n"
     ]
    }
   ],
   "source": [
    "s = \"How are you and who are you\"\n",
    "print(s[5])"
   ]
  },
  {
   "cell_type": "code",
   "execution_count": 162,
   "metadata": {
    "ExecuteTime": {
     "end_time": "2021-01-31T13:47:29.821117Z",
     "start_time": "2021-01-31T13:47:29.815935Z"
    }
   },
   "outputs": [
    {
     "data": {
      "text/plain": [
       "'How are yo'"
      ]
     },
     "execution_count": 162,
     "metadata": {},
     "output_type": "execute_result"
    }
   ],
   "source": [
    "s[0:10]"
   ]
  },
  {
   "cell_type": "code",
   "execution_count": 163,
   "metadata": {
    "ExecuteTime": {
     "end_time": "2021-01-31T13:47:30.008666Z",
     "start_time": "2021-01-31T13:47:30.003317Z"
    }
   },
   "outputs": [
    {
     "data": {
      "text/plain": [
       "' who are '"
      ]
     },
     "execution_count": 163,
     "metadata": {},
     "output_type": "execute_result"
    }
   ],
   "source": [
    "s[-12:-3]"
   ]
  },
  {
   "cell_type": "code",
   "execution_count": 164,
   "metadata": {
    "ExecuteTime": {
     "end_time": "2021-01-31T13:47:30.198188Z",
     "start_time": "2021-01-31T13:47:30.189910Z"
    }
   },
   "outputs": [
    {
     "ename": "TypeError",
     "evalue": "'str' object does not support item assignment",
     "output_type": "error",
     "traceback": [
      "\u001b[0;31m---------------------------------------------------------------------------\u001b[0m",
      "\u001b[0;31mTypeError\u001b[0m                                 Traceback (most recent call last)",
      "\u001b[0;32m<ipython-input-164-d169aff045a6>\u001b[0m in \u001b[0;36m<module>\u001b[0;34m\u001b[0m\n\u001b[0;32m----> 1\u001b[0;31m \u001b[0ms\u001b[0m\u001b[0;34m[\u001b[0m\u001b[0;36m1\u001b[0m\u001b[0;34m]\u001b[0m \u001b[0;34m=\u001b[0m \u001b[0;34m\"e\"\u001b[0m\u001b[0;34m\u001b[0m\u001b[0;34m\u001b[0m\u001b[0m\n\u001b[0m\u001b[1;32m      2\u001b[0m \u001b[0;31m#String is immutable\u001b[0m\u001b[0;34m\u001b[0m\u001b[0;34m\u001b[0m\u001b[0;34m\u001b[0m\u001b[0m\n",
      "\u001b[0;31mTypeError\u001b[0m: 'str' object does not support item assignment"
     ]
    }
   ],
   "source": [
    "s[1] = \"e\"\n",
    "#String is immutable    "
   ]
  },
  {
   "cell_type": "code",
   "execution_count": 165,
   "metadata": {
    "ExecuteTime": {
     "end_time": "2021-01-31T13:47:30.380456Z",
     "start_time": "2021-01-31T13:47:30.377684Z"
    }
   },
   "outputs": [
    {
     "data": {
      "text/plain": [
       "'Hwaeyu'"
      ]
     },
     "execution_count": 165,
     "metadata": {},
     "output_type": "execute_result"
    }
   ],
   "source": [
    "s[0:12:2] "
   ]
  },
  {
   "cell_type": "code",
   "execution_count": 166,
   "metadata": {
    "ExecuteTime": {
     "end_time": "2021-01-31T13:47:30.595841Z",
     "start_time": "2021-01-31T13:47:30.592764Z"
    }
   },
   "outputs": [
    {
     "data": {
      "text/plain": [
       "'uoy era ohw dna uoy era woH'"
      ]
     },
     "execution_count": 166,
     "metadata": {},
     "output_type": "execute_result"
    }
   ],
   "source": [
    "s[::-1]"
   ]
  },
  {
   "cell_type": "code",
   "execution_count": 167,
   "metadata": {
    "ExecuteTime": {
     "end_time": "2021-01-31T13:47:30.804832Z",
     "start_time": "2021-01-31T13:47:30.802331Z"
    }
   },
   "outputs": [
    {
     "name": "stdout",
     "output_type": "stream",
     "text": [
      "abc def     hgq asdfaf\n"
     ]
    }
   ],
   "source": [
    "a = \"    abc def     hgq asdfaf     \"\n",
    "b = a.strip()\n",
    "print(b)"
   ]
  },
  {
   "cell_type": "code",
   "execution_count": 168,
   "metadata": {
    "ExecuteTime": {
     "end_time": "2021-01-31T13:47:30.985251Z",
     "start_time": "2021-01-31T13:47:30.979180Z"
    }
   },
   "outputs": [
    {
     "name": "stdout",
     "output_type": "stream",
     "text": [
      "abc defg ;; sadfa qf\n"
     ]
    }
   ],
   "source": [
    "a = \"ABC deFg ;; sadfa QF\"\n",
    "b = a.lower()\n",
    "print(b)"
   ]
  },
  {
   "cell_type": "code",
   "execution_count": 169,
   "metadata": {
    "ExecuteTime": {
     "end_time": "2021-01-31T13:47:31.181132Z",
     "start_time": "2021-01-31T13:47:31.177102Z"
    }
   },
   "outputs": [
    {
     "name": "stdout",
     "output_type": "stream",
     "text": [
      "ABC DEFG ;; SADFA QF\n"
     ]
    }
   ],
   "source": [
    "c = a.upper()\n",
    "print(c)"
   ]
  },
  {
   "cell_type": "code",
   "execution_count": 170,
   "metadata": {
    "ExecuteTime": {
     "end_time": "2021-01-31T13:47:31.365488Z",
     "start_time": "2021-01-31T13:47:31.361328Z"
    }
   },
   "outputs": [
    {
     "name": "stdout",
     "output_type": "stream",
     "text": [
      "ABC deFg ** sadfa QF\n"
     ]
    }
   ],
   "source": [
    "d = a.replace(\";\",\"*\")\n",
    "print(d)"
   ]
  },
  {
   "cell_type": "code",
   "execution_count": 171,
   "metadata": {
    "ExecuteTime": {
     "end_time": "2021-01-31T13:47:31.556789Z",
     "start_time": "2021-01-31T13:47:31.554457Z"
    }
   },
   "outputs": [
    {
     "name": "stdout",
     "output_type": "stream",
     "text": [
      "ABC deFg **&&^^%%**&&^^%% sadfa QF\n"
     ]
    }
   ],
   "source": [
    "d = a.replace(\";\",\"**&&^^%%\")\n",
    "print(d)"
   ]
  },
  {
   "cell_type": "code",
   "execution_count": 172,
   "metadata": {
    "ExecuteTime": {
     "end_time": "2021-01-31T13:47:31.749836Z",
     "start_time": "2021-01-31T13:47:31.746995Z"
    }
   },
   "outputs": [
    {
     "name": "stdout",
     "output_type": "stream",
     "text": [
      "ABC deFg two semi colons sadfa QF\n"
     ]
    }
   ],
   "source": [
    "d = a.replace(\";;\",\"two semi colons\")\n",
    "print(d)"
   ]
  },
  {
   "cell_type": "code",
   "execution_count": 173,
   "metadata": {
    "ExecuteTime": {
     "end_time": "2021-01-31T13:47:31.950253Z",
     "start_time": "2021-01-31T13:47:31.945785Z"
    }
   },
   "outputs": [
    {
     "name": "stdout",
     "output_type": "stream",
     "text": [
      "['abc', 'def', 'hgydfa', 'yy23']\n"
     ]
    }
   ],
   "source": [
    "a = \"abc;def;hgydfa;yy23\"\n",
    "L = a.split(\";\")\n",
    "print(L)"
   ]
  },
  {
   "cell_type": "code",
   "execution_count": 174,
   "metadata": {
    "ExecuteTime": {
     "end_time": "2021-01-31T13:47:32.141191Z",
     "start_time": "2021-01-31T13:47:32.137769Z"
    }
   },
   "outputs": [
    {
     "data": {
      "text/plain": [
       "'def'"
      ]
     },
     "execution_count": 174,
     "metadata": {},
     "output_type": "execute_result"
    }
   ],
   "source": [
    "L[1]"
   ]
  },
  {
   "cell_type": "code",
   "execution_count": 175,
   "metadata": {
    "ExecuteTime": {
     "end_time": "2021-01-31T13:47:32.342955Z",
     "start_time": "2021-01-31T13:47:32.337968Z"
    }
   },
   "outputs": [
    {
     "name": "stdout",
     "output_type": "stream",
     "text": [
      "Abc;def;hgydfa;yy23\n"
     ]
    }
   ],
   "source": [
    "print(a.capitalize())"
   ]
  },
  {
   "cell_type": "code",
   "execution_count": 176,
   "metadata": {
    "ExecuteTime": {
     "end_time": "2021-01-31T13:47:32.519060Z",
     "start_time": "2021-01-31T13:47:32.513455Z"
    }
   },
   "outputs": [
    {
     "data": {
      "text/plain": [
       "'Abdafadfggq'"
      ]
     },
     "execution_count": 176,
     "metadata": {},
     "output_type": "execute_result"
    }
   ],
   "source": [
    "\"abdAfadfGGQ\".capitalize()"
   ]
  },
  {
   "cell_type": "code",
   "execution_count": 177,
   "metadata": {
    "ExecuteTime": {
     "end_time": "2021-01-31T13:47:32.703486Z",
     "start_time": "2021-01-31T13:47:32.698089Z"
    }
   },
   "outputs": [
    {
     "name": "stdout",
     "output_type": "stream",
     "text": [
      "Help on built-in function count:\n",
      "\n",
      "count(...) method of builtins.str instance\n",
      "    S.count(sub[, start[, end]]) -> int\n",
      "    \n",
      "    Return the number of non-overlapping occurrences of substring sub in\n",
      "    string S[start:end].  Optional arguments start and end are\n",
      "    interpreted as in slice notation.\n",
      "\n"
     ]
    }
   ],
   "source": [
    "help(a.count)"
   ]
  },
  {
   "cell_type": "code",
   "execution_count": 178,
   "metadata": {
    "ExecuteTime": {
     "end_time": "2021-01-31T13:47:32.889181Z",
     "start_time": "2021-01-31T13:47:32.884019Z"
    }
   },
   "outputs": [
    {
     "data": {
      "text/plain": [
       "True"
      ]
     },
     "execution_count": 178,
     "metadata": {},
     "output_type": "execute_result"
    }
   ],
   "source": [
    "\"abc\" in \"asdfafdjabcl;jfdopasdfoajfd;la\""
   ]
  },
  {
   "cell_type": "code",
   "execution_count": 179,
   "metadata": {
    "ExecuteTime": {
     "end_time": "2021-01-31T13:47:33.057048Z",
     "start_time": "2021-01-31T13:47:33.052150Z"
    }
   },
   "outputs": [
    {
     "data": {
      "text/plain": [
       "True"
      ]
     },
     "execution_count": 179,
     "metadata": {},
     "output_type": "execute_result"
    }
   ],
   "source": [
    "\"$%\"<\"*&\""
   ]
  },
  {
   "cell_type": "code",
   "execution_count": 180,
   "metadata": {
    "ExecuteTime": {
     "end_time": "2021-01-31T13:47:33.264520Z",
     "start_time": "2021-01-31T13:47:33.256681Z"
    }
   },
   "outputs": [
    {
     "ename": "SyntaxError",
     "evalue": "invalid syntax (<ipython-input-180-439afcb22d48>, line 1)",
     "output_type": "error",
     "traceback": [
      "\u001b[0;36m  File \u001b[0;32m\"<ipython-input-180-439afcb22d48>\"\u001b[0;36m, line \u001b[0;32m1\u001b[0m\n\u001b[0;31m    print(\"we are learning \"string\" here\")\u001b[0m\n\u001b[0m                            ^\u001b[0m\n\u001b[0;31mSyntaxError\u001b[0m\u001b[0;31m:\u001b[0m invalid syntax\n"
     ]
    }
   ],
   "source": [
    "print(\"we are learning \"string\" here\")"
   ]
  },
  {
   "cell_type": "code",
   "execution_count": 181,
   "metadata": {
    "ExecuteTime": {
     "end_time": "2021-01-31T13:47:33.472223Z",
     "start_time": "2021-01-31T13:47:33.467042Z"
    }
   },
   "outputs": [
    {
     "name": "stdout",
     "output_type": "stream",
     "text": [
      "we are learning \"string\" here\n"
     ]
    }
   ],
   "source": [
    "print(\"we are learning \\\"string\\\" here\")"
   ]
  },
  {
   "cell_type": "code",
   "execution_count": 182,
   "metadata": {
    "ExecuteTime": {
     "end_time": "2021-01-31T13:47:33.658613Z",
     "start_time": "2021-01-31T13:47:33.652767Z"
    }
   },
   "outputs": [
    {
     "name": "stdout",
     "output_type": "stream",
     "text": [
      "we are learing \"string\" here\n"
     ]
    }
   ],
   "source": [
    "print('we are learing \"string\" here')"
   ]
  },
  {
   "cell_type": "code",
   "execution_count": 183,
   "metadata": {
    "ExecuteTime": {
     "end_time": "2021-01-31T13:47:33.870717Z",
     "start_time": "2021-01-31T13:47:33.864594Z"
    }
   },
   "outputs": [
    {
     "name": "stdout",
     "output_type": "stream",
     "text": [
      "we are \t now on another line\n"
     ]
    }
   ],
   "source": [
    "print(\"we are \\t now on another line\")"
   ]
  },
  {
   "cell_type": "code",
   "execution_count": 184,
   "metadata": {
    "ExecuteTime": {
     "end_time": "2021-01-31T13:47:34.072816Z",
     "start_time": "2021-01-31T13:47:34.068306Z"
    }
   },
   "outputs": [
    {
     "name": "stdout",
     "output_type": "stream",
     "text": [
      "c:\n",
      "ame\\drive\n"
     ]
    }
   ],
   "source": [
    "print(\"c:\\name\\drive\")"
   ]
  },
  {
   "cell_type": "code",
   "execution_count": 185,
   "metadata": {
    "ExecuteTime": {
     "end_time": "2021-01-31T13:47:34.271442Z",
     "start_time": "2021-01-31T13:47:34.266853Z"
    }
   },
   "outputs": [
    {
     "name": "stdout",
     "output_type": "stream",
     "text": [
      "c:\\name\\drive\n"
     ]
    }
   ],
   "source": [
    "print(r\"c:\\name\\drive\")"
   ]
  }
 ],
 "metadata": {
  "kernelspec": {
   "display_name": "Python 3",
   "language": "python",
   "name": "python3"
  },
  "language_info": {
   "codemirror_mode": {
    "name": "ipython",
    "version": 3
   },
   "file_extension": ".py",
   "mimetype": "text/x-python",
   "name": "python",
   "nbconvert_exporter": "python",
   "pygments_lexer": "ipython3",
   "version": "3.8.5"
  },
  "latex_envs": {
   "LaTeX_envs_menu_present": true,
   "autoclose": false,
   "autocomplete": true,
   "bibliofile": "biblio.bib",
   "cite_by": "apalike",
   "current_citInitial": 1,
   "eqLabelWithNumbers": true,
   "eqNumInitial": 1,
   "hotkeys": {
    "equation": "Ctrl-E",
    "itemize": "Ctrl-I"
   },
   "labels_anchors": false,
   "latex_user_defs": false,
   "report_style_numbering": false,
   "user_envs_cfg": false
  }
 },
 "nbformat": 4,
 "nbformat_minor": 4
}
